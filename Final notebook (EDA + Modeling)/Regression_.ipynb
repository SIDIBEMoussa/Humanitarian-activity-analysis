{
  "cells": [
    {
      "cell_type": "markdown",
      "metadata": {
        "id": "view-in-github",
        "colab_type": "text"
      },
      "source": [
        "<a href=\"https://colab.research.google.com/github/SIDIBEMoussa/Humanitarian-activity-analysis/blob/main/Final%20notebook%20(EDA%20%2B%20Modeling)/Regression_.ipynb\" target=\"_parent\"><img src=\"https://colab.research.google.com/assets/colab-badge.svg\" alt=\"Open In Colab\"/></a>"
      ]
    },
    {
      "cell_type": "code",
      "execution_count": 4,
      "metadata": {
        "colab": {
          "base_uri": "https://localhost:8080/"
        },
        "id": "2otlvaN6xY1H",
        "outputId": "5f33725f-398b-459d-ffad-ebc2507f37d9",
        "vscode": {
          "languageId": "r"
        }
      },
      "outputs": [
        {
          "output_type": "stream",
          "name": "stderr",
          "text": [
            "Installing package into ‘/usr/local/lib/R/site-library’\n",
            "(as ‘lib’ is unspecified)\n",
            "\n",
            "also installing the dependencies ‘RcppEigen’, ‘foreach’, ‘doParallel’, ‘glmnet’, ‘xgboost’\n",
            "\n",
            "\n",
            "Warning message in install.packages(\"creditmodel\"):\n",
            "“installation of package ‘xgboost’ had non-zero exit status”\n",
            "Warning message in install.packages(\"creditmodel\"):\n",
            "“installation of package ‘glmnet’ had non-zero exit status”\n",
            "Warning message in install.packages(\"creditmodel\"):\n",
            "“installation of package ‘creditmodel’ had non-zero exit status”\n"
          ]
        }
      ],
      "source": [
        "#install.packages(\"Hmisc\")\n",
        "#install.packages(\"caTools\")\n",
        "#install.packages(\"lubridate\")\n",
        "#install.packages(\"creditmodel\")"
      ]
    },
    {
      "cell_type": "code",
      "execution_count": 1,
      "metadata": {
        "colab": {
          "base_uri": "https://localhost:8080/",
          "height": 130
        },
        "id": "IrH6JWhnq0Qt",
        "outputId": "f3af7f62-2948-4bd6-bf54-b35a89b87833",
        "vscode": {
          "languageId": "r"
        }
      },
      "outputs": [
        {
          "output_type": "error",
          "ename": "ERROR",
          "evalue": "ignored",
          "traceback": [
            "Error in library(creditmodel): there is no package called ‘creditmodel’\nTraceback:\n",
            "1. library(creditmodel)"
          ]
        }
      ],
      "source": [
        "library(data.table)\n",
        "#library(Hmisc)\n",
        "#library(lubridate)\n",
        "library(MASS)\n",
        "library(creditmodel)\n",
        "#library(caTools)"
      ]
    },
    {
      "cell_type": "code",
      "execution_count": 2,
      "metadata": {
        "id": "sjN-4CxTq1wy",
        "vscode": {
          "languageId": "r"
        }
      },
      "outputs": [],
      "source": [
        "activity_by_month = read.csv(\"Cleaned_Enriched_activity_data.csv\")\n",
        "\n",
        "attach(activity_by_month)"
      ]
    },
    {
      "cell_type": "code",
      "execution_count": 3,
      "metadata": {
        "colab": {
          "base_uri": "https://localhost:8080/",
          "height": 515
        },
        "id": "BlSOqvBMrLnC",
        "outputId": "23ab0c6e-1cf4-4761-825d-b41f42b08323",
        "vscode": {
          "languageId": "r"
        }
      },
      "outputs": [
        {
          "output_type": "display_data",
          "data": {
            "text/html": [
              "<table class=\"dataframe\">\n",
              "<caption>A data.frame: 6 × 15</caption>\n",
              "<thead>\n",
              "\t<tr><th></th><th scope=col>X_geojson</th><th scope=col>project_id</th><th scope=col>status</th><th scope=col>organisation</th><th scope=col>Country</th><th scope=col>time</th><th scope=col>sessions</th><th scope=col>sessions_mapped</th><th scope=col>sessions_validated</th><th scope=col>cum_sessions</th><th scope=col>cum_sessions_mapped</th><th scope=col>cum_sessions_validated</th><th scope=col>Year</th><th scope=col>gpi</th><th scope=col>gti</th></tr>\n",
              "\t<tr><th></th><th scope=col>&lt;chr&gt;</th><th scope=col>&lt;int&gt;</th><th scope=col>&lt;int&gt;</th><th scope=col>&lt;chr&gt;</th><th scope=col>&lt;chr&gt;</th><th scope=col>&lt;chr&gt;</th><th scope=col>&lt;int&gt;</th><th scope=col>&lt;int&gt;</th><th scope=col>&lt;int&gt;</th><th scope=col>&lt;int&gt;</th><th scope=col>&lt;int&gt;</th><th scope=col>&lt;int&gt;</th><th scope=col>&lt;int&gt;</th><th scope=col>&lt;dbl&gt;</th><th scope=col>&lt;dbl&gt;</th></tr>\n",
              "</thead>\n",
              "<tbody>\n",
              "\t<tr><th scope=row>1</th><td>{\"type\":\"Feature\",\"properties\":{\"project_id\":113,\"status\":0,\"organisation\":\"OSM RDC\",\"country\":[\"Democratic Republic of the Congo\"],\"time\":\"2012/12/01\",\"sessions\":18,\"sessions_mapped\":12,\"sessions_validated\":5,\"cum_sessions\":18,\"cum_sessions_mapped\":12,\"cum_sessions_validated\":5},\"geometry\":{\"type\":\"Point\",\"coordinates\":[29.208227620968245,-5.919781225787704]}}</td><td>113</td><td>0</td><td>OSM RDC</td><td>Democratic Republic of the Congo</td><td>2012-12-01</td><td>18</td><td>12</td><td>5</td><td>18</td><td>12</td><td>5</td><td>2012</td><td>2.934</td><td>5.825723</td></tr>\n",
              "\t<tr><th scope=row>2</th><td>{\"type\":\"Feature\",\"properties\":{\"project_id\":307,\"status\":0,\"organisation\":\"Other\",\"country\":[\"Kenya\"],\"time\":\"2013/09/01\",\"sessions\":56,\"sessions_mapped\":49,\"sessions_validated\":7,\"cum_sessions\":56,\"cum_sessions_mapped\":49,\"cum_sessions_validated\":7},\"geometry\":{\"type\":\"Point\",\"coordinates\":[37.28926673791063,2.25792918879739]}}                                </td><td>307</td><td>0</td><td>Other  </td><td>Kenya                           </td><td>2013-09-01</td><td>56</td><td>49</td><td>7</td><td>56</td><td>49</td><td>7</td><td>2013</td><td>2.520</td><td>6.974787</td></tr>\n",
              "\t<tr><th scope=row>3</th><td>{\"type\":\"Feature\",\"properties\":{\"project_id\":307,\"status\":0,\"organisation\":\"Other\",\"country\":[\"Kenya\"],\"time\":\"2013/10/01\",\"sessions\":15,\"sessions_mapped\":15,\"sessions_validated\":0,\"cum_sessions\":71,\"cum_sessions_mapped\":64,\"cum_sessions_validated\":7},\"geometry\":{\"type\":\"Point\",\"coordinates\":[37.28926673791063,2.25792918879739]}}                                </td><td>307</td><td>0</td><td>Other  </td><td>Kenya                           </td><td>2013-10-01</td><td>15</td><td>15</td><td>0</td><td>71</td><td>64</td><td>7</td><td>2013</td><td>2.520</td><td>6.974787</td></tr>\n",
              "\t<tr><th scope=row>4</th><td>{\"type\":\"Feature\",\"properties\":{\"project_id\":307,\"status\":0,\"organisation\":\"Other\",\"country\":[\"Kenya\"],\"time\":\"2013/11/01\",\"sessions\":25,\"sessions_mapped\":25,\"sessions_validated\":0,\"cum_sessions\":96,\"cum_sessions_mapped\":89,\"cum_sessions_validated\":7},\"geometry\":{\"type\":\"Point\",\"coordinates\":[37.28926673791063,2.25792918879739]}}                                </td><td>307</td><td>0</td><td>Other  </td><td>Kenya                           </td><td>2013-11-01</td><td>25</td><td>25</td><td>0</td><td>96</td><td>89</td><td>7</td><td>2013</td><td>2.520</td><td>6.974787</td></tr>\n",
              "\t<tr><th scope=row>5</th><td>{\"type\":\"Feature\",\"properties\":{\"project_id\":105,\"status\":0,\"organisation\":\"HOT\",\"country\":[\"Indonesia\"],\"time\":\"2013/01/01\",\"sessions\":22,\"sessions_mapped\":22,\"sessions_validated\":0,\"cum_sessions\":22,\"cum_sessions_mapped\":22,\"cum_sessions_validated\":0},\"geometry\":{\"type\":\"Point\",\"coordinates\":[112.71578853060767,-7.528457921176402]}}                           </td><td>105</td><td>0</td><td>HOT    </td><td>Indonesia                       </td><td>2013-01-01</td><td>22</td><td>22</td><td>0</td><td>22</td><td>22</td><td>0</td><td>2013</td><td>1.690</td><td>5.167678</td></tr>\n",
              "\t<tr><th scope=row>6</th><td>{\"type\":\"Feature\",\"properties\":{\"project_id\":231,\"status\":0,\"organisation\":\"HOT\",\"country\":[\"Indonesia\"],\"time\":\"2013/04/01\",\"sessions\":61,\"sessions_mapped\":54,\"sessions_validated\":2,\"cum_sessions\":61,\"cum_sessions_mapped\":54,\"cum_sessions_validated\":2},\"geometry\":{\"type\":\"Point\",\"coordinates\":[112.01225391713689,-7.164433004492154]}}                           </td><td>231</td><td>0</td><td>HOT    </td><td>Indonesia                       </td><td>2013-04-01</td><td>61</td><td>54</td><td>2</td><td>61</td><td>54</td><td>2</td><td>2013</td><td>1.690</td><td>5.167678</td></tr>\n",
              "</tbody>\n",
              "</table>\n"
            ],
            "text/markdown": "\nA data.frame: 6 × 15\n\n| <!--/--> | X_geojson &lt;chr&gt; | project_id &lt;int&gt; | status &lt;int&gt; | organisation &lt;chr&gt; | Country &lt;chr&gt; | time &lt;chr&gt; | sessions &lt;int&gt; | sessions_mapped &lt;int&gt; | sessions_validated &lt;int&gt; | cum_sessions &lt;int&gt; | cum_sessions_mapped &lt;int&gt; | cum_sessions_validated &lt;int&gt; | Year &lt;int&gt; | gpi &lt;dbl&gt; | gti &lt;dbl&gt; |\n|---|---|---|---|---|---|---|---|---|---|---|---|---|---|---|---|\n| 1 | {\"type\":\"Feature\",\"properties\":{\"project_id\":113,\"status\":0,\"organisation\":\"OSM RDC\",\"country\":[\"Democratic Republic of the Congo\"],\"time\":\"2012/12/01\",\"sessions\":18,\"sessions_mapped\":12,\"sessions_validated\":5,\"cum_sessions\":18,\"cum_sessions_mapped\":12,\"cum_sessions_validated\":5},\"geometry\":{\"type\":\"Point\",\"coordinates\":[29.208227620968245,-5.919781225787704]}} | 113 | 0 | OSM RDC | Democratic Republic of the Congo | 2012-12-01 | 18 | 12 | 5 | 18 | 12 | 5 | 2012 | 2.934 | 5.825723 |\n| 2 | {\"type\":\"Feature\",\"properties\":{\"project_id\":307,\"status\":0,\"organisation\":\"Other\",\"country\":[\"Kenya\"],\"time\":\"2013/09/01\",\"sessions\":56,\"sessions_mapped\":49,\"sessions_validated\":7,\"cum_sessions\":56,\"cum_sessions_mapped\":49,\"cum_sessions_validated\":7},\"geometry\":{\"type\":\"Point\",\"coordinates\":[37.28926673791063,2.25792918879739]}}                                 | 307 | 0 | Other   | Kenya                            | 2013-09-01 | 56 | 49 | 7 | 56 | 49 | 7 | 2013 | 2.520 | 6.974787 |\n| 3 | {\"type\":\"Feature\",\"properties\":{\"project_id\":307,\"status\":0,\"organisation\":\"Other\",\"country\":[\"Kenya\"],\"time\":\"2013/10/01\",\"sessions\":15,\"sessions_mapped\":15,\"sessions_validated\":0,\"cum_sessions\":71,\"cum_sessions_mapped\":64,\"cum_sessions_validated\":7},\"geometry\":{\"type\":\"Point\",\"coordinates\":[37.28926673791063,2.25792918879739]}}                                 | 307 | 0 | Other   | Kenya                            | 2013-10-01 | 15 | 15 | 0 | 71 | 64 | 7 | 2013 | 2.520 | 6.974787 |\n| 4 | {\"type\":\"Feature\",\"properties\":{\"project_id\":307,\"status\":0,\"organisation\":\"Other\",\"country\":[\"Kenya\"],\"time\":\"2013/11/01\",\"sessions\":25,\"sessions_mapped\":25,\"sessions_validated\":0,\"cum_sessions\":96,\"cum_sessions_mapped\":89,\"cum_sessions_validated\":7},\"geometry\":{\"type\":\"Point\",\"coordinates\":[37.28926673791063,2.25792918879739]}}                                 | 307 | 0 | Other   | Kenya                            | 2013-11-01 | 25 | 25 | 0 | 96 | 89 | 7 | 2013 | 2.520 | 6.974787 |\n| 5 | {\"type\":\"Feature\",\"properties\":{\"project_id\":105,\"status\":0,\"organisation\":\"HOT\",\"country\":[\"Indonesia\"],\"time\":\"2013/01/01\",\"sessions\":22,\"sessions_mapped\":22,\"sessions_validated\":0,\"cum_sessions\":22,\"cum_sessions_mapped\":22,\"cum_sessions_validated\":0},\"geometry\":{\"type\":\"Point\",\"coordinates\":[112.71578853060767,-7.528457921176402]}}                            | 105 | 0 | HOT     | Indonesia                        | 2013-01-01 | 22 | 22 | 0 | 22 | 22 | 0 | 2013 | 1.690 | 5.167678 |\n| 6 | {\"type\":\"Feature\",\"properties\":{\"project_id\":231,\"status\":0,\"organisation\":\"HOT\",\"country\":[\"Indonesia\"],\"time\":\"2013/04/01\",\"sessions\":61,\"sessions_mapped\":54,\"sessions_validated\":2,\"cum_sessions\":61,\"cum_sessions_mapped\":54,\"cum_sessions_validated\":2},\"geometry\":{\"type\":\"Point\",\"coordinates\":[112.01225391713689,-7.164433004492154]}}                            | 231 | 0 | HOT     | Indonesia                        | 2013-04-01 | 61 | 54 | 2 | 61 | 54 | 2 | 2013 | 1.690 | 5.167678 |\n\n",
            "text/latex": "A data.frame: 6 × 15\n\\begin{tabular}{r|lllllllllllllll}\n  & X\\_geojson & project\\_id & status & organisation & Country & time & sessions & sessions\\_mapped & sessions\\_validated & cum\\_sessions & cum\\_sessions\\_mapped & cum\\_sessions\\_validated & Year & gpi & gti\\\\\n  & <chr> & <int> & <int> & <chr> & <chr> & <chr> & <int> & <int> & <int> & <int> & <int> & <int> & <int> & <dbl> & <dbl>\\\\\n\\hline\n\t1 & \\{\"type\":\"Feature\",\"properties\":\\{\"project\\_id\":113,\"status\":0,\"organisation\":\"OSM RDC\",\"country\":{[}\"Democratic Republic of the Congo\"{]},\"time\":\"2012/12/01\",\"sessions\":18,\"sessions\\_mapped\":12,\"sessions\\_validated\":5,\"cum\\_sessions\":18,\"cum\\_sessions\\_mapped\":12,\"cum\\_sessions\\_validated\":5\\},\"geometry\":\\{\"type\":\"Point\",\"coordinates\":{[}29.208227620968245,-5.919781225787704{]}\\}\\} & 113 & 0 & OSM RDC & Democratic Republic of the Congo & 2012-12-01 & 18 & 12 & 5 & 18 & 12 & 5 & 2012 & 2.934 & 5.825723\\\\\n\t2 & \\{\"type\":\"Feature\",\"properties\":\\{\"project\\_id\":307,\"status\":0,\"organisation\":\"Other\",\"country\":{[}\"Kenya\"{]},\"time\":\"2013/09/01\",\"sessions\":56,\"sessions\\_mapped\":49,\"sessions\\_validated\":7,\"cum\\_sessions\":56,\"cum\\_sessions\\_mapped\":49,\"cum\\_sessions\\_validated\":7\\},\"geometry\":\\{\"type\":\"Point\",\"coordinates\":{[}37.28926673791063,2.25792918879739{]}\\}\\}                                 & 307 & 0 & Other   & Kenya                            & 2013-09-01 & 56 & 49 & 7 & 56 & 49 & 7 & 2013 & 2.520 & 6.974787\\\\\n\t3 & \\{\"type\":\"Feature\",\"properties\":\\{\"project\\_id\":307,\"status\":0,\"organisation\":\"Other\",\"country\":{[}\"Kenya\"{]},\"time\":\"2013/10/01\",\"sessions\":15,\"sessions\\_mapped\":15,\"sessions\\_validated\":0,\"cum\\_sessions\":71,\"cum\\_sessions\\_mapped\":64,\"cum\\_sessions\\_validated\":7\\},\"geometry\":\\{\"type\":\"Point\",\"coordinates\":{[}37.28926673791063,2.25792918879739{]}\\}\\}                                 & 307 & 0 & Other   & Kenya                            & 2013-10-01 & 15 & 15 & 0 & 71 & 64 & 7 & 2013 & 2.520 & 6.974787\\\\\n\t4 & \\{\"type\":\"Feature\",\"properties\":\\{\"project\\_id\":307,\"status\":0,\"organisation\":\"Other\",\"country\":{[}\"Kenya\"{]},\"time\":\"2013/11/01\",\"sessions\":25,\"sessions\\_mapped\":25,\"sessions\\_validated\":0,\"cum\\_sessions\":96,\"cum\\_sessions\\_mapped\":89,\"cum\\_sessions\\_validated\":7\\},\"geometry\":\\{\"type\":\"Point\",\"coordinates\":{[}37.28926673791063,2.25792918879739{]}\\}\\}                                 & 307 & 0 & Other   & Kenya                            & 2013-11-01 & 25 & 25 & 0 & 96 & 89 & 7 & 2013 & 2.520 & 6.974787\\\\\n\t5 & \\{\"type\":\"Feature\",\"properties\":\\{\"project\\_id\":105,\"status\":0,\"organisation\":\"HOT\",\"country\":{[}\"Indonesia\"{]},\"time\":\"2013/01/01\",\"sessions\":22,\"sessions\\_mapped\":22,\"sessions\\_validated\":0,\"cum\\_sessions\":22,\"cum\\_sessions\\_mapped\":22,\"cum\\_sessions\\_validated\":0\\},\"geometry\":\\{\"type\":\"Point\",\"coordinates\":{[}112.71578853060767,-7.528457921176402{]}\\}\\}                            & 105 & 0 & HOT     & Indonesia                        & 2013-01-01 & 22 & 22 & 0 & 22 & 22 & 0 & 2013 & 1.690 & 5.167678\\\\\n\t6 & \\{\"type\":\"Feature\",\"properties\":\\{\"project\\_id\":231,\"status\":0,\"organisation\":\"HOT\",\"country\":{[}\"Indonesia\"{]},\"time\":\"2013/04/01\",\"sessions\":61,\"sessions\\_mapped\":54,\"sessions\\_validated\":2,\"cum\\_sessions\":61,\"cum\\_sessions\\_mapped\":54,\"cum\\_sessions\\_validated\":2\\},\"geometry\":\\{\"type\":\"Point\",\"coordinates\":{[}112.01225391713689,-7.164433004492154{]}\\}\\}                            & 231 & 0 & HOT     & Indonesia                        & 2013-04-01 & 61 & 54 & 2 & 61 & 54 & 2 & 2013 & 1.690 & 5.167678\\\\\n\\end{tabular}\n",
            "text/plain": [
              "  X_geojson                                                                                                                                                                                                                                                                                                                                                                  \n",
              "1 {\"type\":\"Feature\",\"properties\":{\"project_id\":113,\"status\":0,\"organisation\":\"OSM RDC\",\"country\":[\"Democratic Republic of the Congo\"],\"time\":\"2012/12/01\",\"sessions\":18,\"sessions_mapped\":12,\"sessions_validated\":5,\"cum_sessions\":18,\"cum_sessions_mapped\":12,\"cum_sessions_validated\":5},\"geometry\":{\"type\":\"Point\",\"coordinates\":[29.208227620968245,-5.919781225787704]}}\n",
              "2 {\"type\":\"Feature\",\"properties\":{\"project_id\":307,\"status\":0,\"organisation\":\"Other\",\"country\":[\"Kenya\"],\"time\":\"2013/09/01\",\"sessions\":56,\"sessions_mapped\":49,\"sessions_validated\":7,\"cum_sessions\":56,\"cum_sessions_mapped\":49,\"cum_sessions_validated\":7},\"geometry\":{\"type\":\"Point\",\"coordinates\":[37.28926673791063,2.25792918879739]}}                                \n",
              "3 {\"type\":\"Feature\",\"properties\":{\"project_id\":307,\"status\":0,\"organisation\":\"Other\",\"country\":[\"Kenya\"],\"time\":\"2013/10/01\",\"sessions\":15,\"sessions_mapped\":15,\"sessions_validated\":0,\"cum_sessions\":71,\"cum_sessions_mapped\":64,\"cum_sessions_validated\":7},\"geometry\":{\"type\":\"Point\",\"coordinates\":[37.28926673791063,2.25792918879739]}}                                \n",
              "4 {\"type\":\"Feature\",\"properties\":{\"project_id\":307,\"status\":0,\"organisation\":\"Other\",\"country\":[\"Kenya\"],\"time\":\"2013/11/01\",\"sessions\":25,\"sessions_mapped\":25,\"sessions_validated\":0,\"cum_sessions\":96,\"cum_sessions_mapped\":89,\"cum_sessions_validated\":7},\"geometry\":{\"type\":\"Point\",\"coordinates\":[37.28926673791063,2.25792918879739]}}                                \n",
              "5 {\"type\":\"Feature\",\"properties\":{\"project_id\":105,\"status\":0,\"organisation\":\"HOT\",\"country\":[\"Indonesia\"],\"time\":\"2013/01/01\",\"sessions\":22,\"sessions_mapped\":22,\"sessions_validated\":0,\"cum_sessions\":22,\"cum_sessions_mapped\":22,\"cum_sessions_validated\":0},\"geometry\":{\"type\":\"Point\",\"coordinates\":[112.71578853060767,-7.528457921176402]}}                           \n",
              "6 {\"type\":\"Feature\",\"properties\":{\"project_id\":231,\"status\":0,\"organisation\":\"HOT\",\"country\":[\"Indonesia\"],\"time\":\"2013/04/01\",\"sessions\":61,\"sessions_mapped\":54,\"sessions_validated\":2,\"cum_sessions\":61,\"cum_sessions_mapped\":54,\"cum_sessions_validated\":2},\"geometry\":{\"type\":\"Point\",\"coordinates\":[112.01225391713689,-7.164433004492154]}}                           \n",
              "  project_id status organisation Country                          time      \n",
              "1 113        0      OSM RDC      Democratic Republic of the Congo 2012-12-01\n",
              "2 307        0      Other        Kenya                            2013-09-01\n",
              "3 307        0      Other        Kenya                            2013-10-01\n",
              "4 307        0      Other        Kenya                            2013-11-01\n",
              "5 105        0      HOT          Indonesia                        2013-01-01\n",
              "6 231        0      HOT          Indonesia                        2013-04-01\n",
              "  sessions sessions_mapped sessions_validated cum_sessions cum_sessions_mapped\n",
              "1 18       12              5                  18           12                 \n",
              "2 56       49              7                  56           49                 \n",
              "3 15       15              0                  71           64                 \n",
              "4 25       25              0                  96           89                 \n",
              "5 22       22              0                  22           22                 \n",
              "6 61       54              2                  61           54                 \n",
              "  cum_sessions_validated Year gpi   gti     \n",
              "1 5                      2012 2.934 5.825723\n",
              "2 7                      2013 2.520 6.974787\n",
              "3 7                      2013 2.520 6.974787\n",
              "4 7                      2013 2.520 6.974787\n",
              "5 0                      2013 1.690 5.167678\n",
              "6 2                      2013 1.690 5.167678"
            ]
          },
          "metadata": {}
        }
      ],
      "source": [
        "head(activity_by_month)"
      ]
    },
    {
      "cell_type": "markdown",
      "metadata": {
        "id": "EGJvrlNr3TaC"
      },
      "source": [
        "status + sessions + sessions_mapped + cum_sessions + cum_sessions_mapped + gpi + gti"
      ]
    },
    {
      "cell_type": "code",
      "execution_count": 17,
      "metadata": {
        "colab": {
          "base_uri": "https://localhost:8080/",
          "height": 434
        },
        "id": "ieye5F1ftL_Z",
        "outputId": "67ea36dd-87c3-4e24-e8fe-62da1c18a7bf",
        "vscode": {
          "languageId": "r"
        }
      },
      "outputs": [
        {
          "output_type": "display_data",
          "data": {
            "text/plain": [
              "\n",
              "Call:\n",
              "lm(formula = sessions_validated ~ status + sessions + sessions_mapped + \n",
              "    cum_sessions + cum_sessions_mapped + gpi + gti - 1)\n",
              "\n",
              "Residuals:\n",
              "    Min      1Q  Median      3Q     Max \n",
              "-4983.5   -23.3    -9.5     4.9  7414.4 \n",
              "\n",
              "Coefficients:\n",
              "                      Estimate Std. Error t value Pr(>|t|)    \n",
              "status              -3.279e+01  2.202e+00 -14.892  < 2e-16 ***\n",
              "sessions             3.611e-01  2.772e-03 130.295  < 2e-16 ***\n",
              "sessions_mapped     -4.439e-01  6.136e-03 -72.340  < 2e-16 ***\n",
              "cum_sessions        -2.070e-02  5.682e-04 -36.430  < 2e-16 ***\n",
              "cum_sessions_mapped  6.398e-02  1.788e-03  35.776  < 2e-16 ***\n",
              "gpi                  8.217e+00  7.770e-01  10.576  < 2e-16 ***\n",
              "gti                 -2.670e+00  3.274e-01  -8.156 3.58e-16 ***\n",
              "---\n",
              "Signif. codes:  0 ‘***’ 0.001 ‘**’ 0.01 ‘*’ 0.05 ‘.’ 0.1 ‘ ’ 1\n",
              "\n",
              "Residual standard error: 158.2 on 35612 degrees of freedom\n",
              "Multiple R-squared:  0.4744,\tAdjusted R-squared:  0.4743 \n",
              "F-statistic:  4591 on 7 and 35612 DF,  p-value: < 2.2e-16\n"
            ]
          },
          "metadata": {}
        }
      ],
      "source": [
        "model_base = lm(data = activity_by_month, sessions_validated ~ 1)\n",
        "model_complet = lm(sessions_validated ~ status + sessions + sessions_mapped + cum_sessions + cum_sessions_mapped + gpi + gti -1)\n",
        "\n",
        "summary(model_complet)"
      ]
    },
    {
      "cell_type": "code",
      "execution_count": 5,
      "metadata": {
        "colab": {
          "base_uri": "https://localhost:8080/",
          "height": 34
        },
        "id": "pWXwLBN5BdDi",
        "outputId": "09f84416-1e2d-4dfb-c6ca-8da5135c8226",
        "vscode": {
          "languageId": "r"
        }
      },
      "outputs": [
        {
          "output_type": "display_data",
          "data": {
            "text/plain": [
              "sessions_validated ~ -1 + sessions + gpi + gti"
            ]
          },
          "metadata": {}
        }
      ],
      "source": [
        "formula(model_complet)"
      ]
    },
    {
      "cell_type": "code",
      "execution_count": 15,
      "metadata": {
        "colab": {
          "base_uri": "https://localhost:8080/",
          "height": 382
        },
        "id": "y7dDF6cy41xa",
        "outputId": "d6ebd84f-661e-42aa-8bc3-3a6aa0c7fde2",
        "vscode": {
          "languageId": "r"
        }
      },
      "outputs": [
        {
          "output_type": "display_data",
          "data": {
            "text/plain": [
              "\n",
              "Call:\n",
              "lm(formula = sessions_validated ~ project_id + sessions_mapped + \n",
              "    gti + gpi - 1)\n",
              "\n",
              "Residuals:\n",
              "    Min      1Q  Median      3Q     Max \n",
              "-2347.5   -33.7   -21.5   -12.0 11332.1 \n",
              "\n",
              "Coefficients:\n",
              "                  Estimate Std. Error t value Pr(>|t|)    \n",
              "project_id       0.0031796  0.0003483   9.128  < 2e-16 ***\n",
              "sessions_mapped  0.2781872  0.0035467  78.435  < 2e-16 ***\n",
              "gti             -1.6960713  0.4037444  -4.201 2.67e-05 ***\n",
              "gpi              4.8540935  1.3314820   3.646 0.000267 ***\n",
              "---\n",
              "Signif. codes:  0 ‘***’ 0.001 ‘**’ 0.01 ‘*’ 0.05 ‘.’ 0.1 ‘ ’ 1\n",
              "\n",
              "Residual standard error: 195.4 on 35615 degrees of freedom\n",
              "Multiple R-squared:  0.1981,\tAdjusted R-squared:  0.198 \n",
              "F-statistic:  2199 on 4 and 35615 DF,  p-value: < 2.2e-16\n"
            ]
          },
          "metadata": {}
        }
      ],
      "source": [
        "model_base = lm(data = activity_by_month, sessions_validated ~ 1)\n",
        "model_complet = lm(sessions_validated ~ project_id + sessions_mapped + gti + gpi -1)\n",
        "\n",
        "summary(model_complet)"
      ]
    },
    {
      "cell_type": "code",
      "source": [],
      "metadata": {
        "id": "26VHEVogJynT"
      },
      "execution_count": 8,
      "outputs": []
    }
  ],
  "metadata": {
    "colab": {
      "provenance": [],
      "include_colab_link": true
    },
    "kernelspec": {
      "display_name": "R",
      "name": "ir"
    },
    "language_info": {
      "name": "R"
    }
  },
  "nbformat": 4,
  "nbformat_minor": 0
}
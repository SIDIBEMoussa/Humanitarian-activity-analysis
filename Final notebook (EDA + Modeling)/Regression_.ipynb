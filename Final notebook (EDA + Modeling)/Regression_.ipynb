{
  "cells": [
    {
      "cell_type": "markdown",
      "metadata": {
        "colab_type": "text",
        "id": "view-in-github"
      },
      "source": [
        "<a href=\"https://colab.research.google.com/github/SIDIBEMoussa/Humanitarian-activity-analysis/blob/main/Final%20notebook%20(EDA%20%2B%20Modeling)/Regression_.ipynb\" target=\"_parent\"><img src=\"https://colab.research.google.com/assets/colab-badge.svg\" alt=\"Open In Colab\"/></a>"
      ]
    },
    {
      "cell_type": "code",
      "execution_count": null,
      "metadata": {
        "colab": {
          "base_uri": "https://localhost:8080/"
        },
        "id": "2otlvaN6xY1H",
        "outputId": "11581a89-e4e4-421d-8705-b122fb84fc42",
        "vscode": {
          "languageId": "r"
        }
      },
      "outputs": [
        {
          "name": "stderr",
          "output_type": "stream",
          "text": [
            "Installing package into ‘/usr/local/lib/R/site-library’\n",
            "(as ‘lib’ is unspecified)\n",
            "\n"
          ]
        }
      ],
      "source": [
        "#install.packages(\"Hmisc\")\n",
        "#install.packages(\"caTools\")\n",
        "install.packages(\"lubridate\")\n",
        "install.packages(\"creditmodel\")"
      ]
    },
    {
      "cell_type": "code",
      "execution_count": null,
      "metadata": {
        "colab": {
          "base_uri": "https://localhost:8080/"
        },
        "id": "IrH6JWhnq0Qt",
        "outputId": "567abcf9-979b-46fc-b9d0-693959fda858",
        "vscode": {
          "languageId": "r"
        }
      },
      "outputs": [
        {
          "name": "stderr",
          "output_type": "stream",
          "text": [
            "Warning message in system(\"timedatectl\", intern = TRUE):\n",
            "“running command 'timedatectl' had status 1”\n",
            "\n",
            "Attaching package: ‘lubridate’\n",
            "\n",
            "\n",
            "The following objects are masked from ‘package:data.table’:\n",
            "\n",
            "    hour, isoweek, mday, minute, month, quarter, second, wday, week,\n",
            "    yday, year\n",
            "\n",
            "\n",
            "The following objects are masked from ‘package:base’:\n",
            "\n",
            "    date, intersect, setdiff, union\n",
            "\n",
            "\n"
          ]
        }
      ],
      "source": [
        "library(data.table)\n",
        "#library(Hmisc)\n",
        "library(lubridate)\n",
        "library(MASS)\n",
        "library(creditmodel)\n",
        "#library(caTools)"
      ]
    },
    {
      "cell_type": "code",
      "execution_count": null,
      "metadata": {
        "id": "sjN-4CxTq1wy",
        "vscode": {
          "languageId": "r"
        }
      },
      "outputs": [],
      "source": [
        "activity_by_month = read.csv(\"Cleaned_Enriched_activity_data.csv\")\n",
        "\n",
        "attach(activity_by_month)"
      ]
    },
    {
      "cell_type": "code",
      "execution_count": null,
      "metadata": {
        "colab": {
          "base_uri": "https://localhost:8080/",
          "height": 515
        },
        "id": "BlSOqvBMrLnC",
        "outputId": "f0e4f12d-484a-4870-b6e6-f674a743176e",
        "vscode": {
          "languageId": "r"
        }
      },
      "outputs": [
        {
          "data": {
            "text/html": [
              "<table class=\"dataframe\">\n",
              "<caption>A data.frame: 6 × 15</caption>\n",
              "<thead>\n",
              "\t<tr><th></th><th scope=col>X_geojson</th><th scope=col>project_id</th><th scope=col>status</th><th scope=col>organisation</th><th scope=col>Country</th><th scope=col>time</th><th scope=col>sessions</th><th scope=col>sessions_mapped</th><th scope=col>sessions_validated</th><th scope=col>cum_sessions</th><th scope=col>cum_sessions_mapped</th><th scope=col>cum_sessions_validated</th><th scope=col>Year</th><th scope=col>gpi</th><th scope=col>gti</th></tr>\n",
              "\t<tr><th></th><th scope=col>&lt;chr&gt;</th><th scope=col>&lt;int&gt;</th><th scope=col>&lt;int&gt;</th><th scope=col>&lt;chr&gt;</th><th scope=col>&lt;chr&gt;</th><th scope=col>&lt;chr&gt;</th><th scope=col>&lt;int&gt;</th><th scope=col>&lt;int&gt;</th><th scope=col>&lt;int&gt;</th><th scope=col>&lt;int&gt;</th><th scope=col>&lt;int&gt;</th><th scope=col>&lt;int&gt;</th><th scope=col>&lt;int&gt;</th><th scope=col>&lt;dbl&gt;</th><th scope=col>&lt;dbl&gt;</th></tr>\n",
              "</thead>\n",
              "<tbody>\n",
              "\t<tr><th scope=row>1</th><td>{\"type\":\"Feature\",\"properties\":{\"project_id\":113,\"status\":0,\"organisation\":\"OSM RDC\",\"country\":[\"Democratic Republic of the Congo\"],\"time\":\"2012/12/01\",\"sessions\":18,\"sessions_mapped\":12,\"sessions_validated\":5,\"cum_sessions\":18,\"cum_sessions_mapped\":12,\"cum_sessions_validated\":5},\"geometry\":{\"type\":\"Point\",\"coordinates\":[29.208227620968245,-5.919781225787704]}}</td><td>113</td><td>0</td><td>OSM RDC</td><td>Democratic Republic of the Congo</td><td>2012-12-01</td><td>18</td><td>12</td><td>5</td><td>18</td><td>12</td><td>5</td><td>2012</td><td>2.934</td><td>5.825723</td></tr>\n",
              "\t<tr><th scope=row>2</th><td>{\"type\":\"Feature\",\"properties\":{\"project_id\":307,\"status\":0,\"organisation\":\"Other\",\"country\":[\"Kenya\"],\"time\":\"2013/09/01\",\"sessions\":56,\"sessions_mapped\":49,\"sessions_validated\":7,\"cum_sessions\":56,\"cum_sessions_mapped\":49,\"cum_sessions_validated\":7},\"geometry\":{\"type\":\"Point\",\"coordinates\":[37.28926673791063,2.25792918879739]}}                                </td><td>307</td><td>0</td><td>Other  </td><td>Kenya                           </td><td>2013-09-01</td><td>56</td><td>49</td><td>7</td><td>56</td><td>49</td><td>7</td><td>2013</td><td>2.520</td><td>6.974787</td></tr>\n",
              "\t<tr><th scope=row>3</th><td>{\"type\":\"Feature\",\"properties\":{\"project_id\":307,\"status\":0,\"organisation\":\"Other\",\"country\":[\"Kenya\"],\"time\":\"2013/10/01\",\"sessions\":15,\"sessions_mapped\":15,\"sessions_validated\":0,\"cum_sessions\":71,\"cum_sessions_mapped\":64,\"cum_sessions_validated\":7},\"geometry\":{\"type\":\"Point\",\"coordinates\":[37.28926673791063,2.25792918879739]}}                                </td><td>307</td><td>0</td><td>Other  </td><td>Kenya                           </td><td>2013-10-01</td><td>15</td><td>15</td><td>0</td><td>71</td><td>64</td><td>7</td><td>2013</td><td>2.520</td><td>6.974787</td></tr>\n",
              "\t<tr><th scope=row>4</th><td>{\"type\":\"Feature\",\"properties\":{\"project_id\":307,\"status\":0,\"organisation\":\"Other\",\"country\":[\"Kenya\"],\"time\":\"2013/11/01\",\"sessions\":25,\"sessions_mapped\":25,\"sessions_validated\":0,\"cum_sessions\":96,\"cum_sessions_mapped\":89,\"cum_sessions_validated\":7},\"geometry\":{\"type\":\"Point\",\"coordinates\":[37.28926673791063,2.25792918879739]}}                                </td><td>307</td><td>0</td><td>Other  </td><td>Kenya                           </td><td>2013-11-01</td><td>25</td><td>25</td><td>0</td><td>96</td><td>89</td><td>7</td><td>2013</td><td>2.520</td><td>6.974787</td></tr>\n",
              "\t<tr><th scope=row>5</th><td>{\"type\":\"Feature\",\"properties\":{\"project_id\":105,\"status\":0,\"organisation\":\"HOT\",\"country\":[\"Indonesia\"],\"time\":\"2013/01/01\",\"sessions\":22,\"sessions_mapped\":22,\"sessions_validated\":0,\"cum_sessions\":22,\"cum_sessions_mapped\":22,\"cum_sessions_validated\":0},\"geometry\":{\"type\":\"Point\",\"coordinates\":[112.71578853060767,-7.528457921176402]}}                           </td><td>105</td><td>0</td><td>HOT    </td><td>Indonesia                       </td><td>2013-01-01</td><td>22</td><td>22</td><td>0</td><td>22</td><td>22</td><td>0</td><td>2013</td><td>1.690</td><td>5.167678</td></tr>\n",
              "\t<tr><th scope=row>6</th><td>{\"type\":\"Feature\",\"properties\":{\"project_id\":231,\"status\":0,\"organisation\":\"HOT\",\"country\":[\"Indonesia\"],\"time\":\"2013/04/01\",\"sessions\":61,\"sessions_mapped\":54,\"sessions_validated\":2,\"cum_sessions\":61,\"cum_sessions_mapped\":54,\"cum_sessions_validated\":2},\"geometry\":{\"type\":\"Point\",\"coordinates\":[112.01225391713689,-7.164433004492154]}}                           </td><td>231</td><td>0</td><td>HOT    </td><td>Indonesia                       </td><td>2013-04-01</td><td>61</td><td>54</td><td>2</td><td>61</td><td>54</td><td>2</td><td>2013</td><td>1.690</td><td>5.167678</td></tr>\n",
              "</tbody>\n",
              "</table>\n"
            ],
            "text/latex": [
              "A data.frame: 6 × 15\n",
              "\\begin{tabular}{r|lllllllllllllll}\n",
              "  & X\\_geojson & project\\_id & status & organisation & Country & time & sessions & sessions\\_mapped & sessions\\_validated & cum\\_sessions & cum\\_sessions\\_mapped & cum\\_sessions\\_validated & Year & gpi & gti\\\\\n",
              "  & <chr> & <int> & <int> & <chr> & <chr> & <chr> & <int> & <int> & <int> & <int> & <int> & <int> & <int> & <dbl> & <dbl>\\\\\n",
              "\\hline\n",
              "\t1 & \\{\"type\":\"Feature\",\"properties\":\\{\"project\\_id\":113,\"status\":0,\"organisation\":\"OSM RDC\",\"country\":{[}\"Democratic Republic of the Congo\"{]},\"time\":\"2012/12/01\",\"sessions\":18,\"sessions\\_mapped\":12,\"sessions\\_validated\":5,\"cum\\_sessions\":18,\"cum\\_sessions\\_mapped\":12,\"cum\\_sessions\\_validated\":5\\},\"geometry\":\\{\"type\":\"Point\",\"coordinates\":{[}29.208227620968245,-5.919781225787704{]}\\}\\} & 113 & 0 & OSM RDC & Democratic Republic of the Congo & 2012-12-01 & 18 & 12 & 5 & 18 & 12 & 5 & 2012 & 2.934 & 5.825723\\\\\n",
              "\t2 & \\{\"type\":\"Feature\",\"properties\":\\{\"project\\_id\":307,\"status\":0,\"organisation\":\"Other\",\"country\":{[}\"Kenya\"{]},\"time\":\"2013/09/01\",\"sessions\":56,\"sessions\\_mapped\":49,\"sessions\\_validated\":7,\"cum\\_sessions\":56,\"cum\\_sessions\\_mapped\":49,\"cum\\_sessions\\_validated\":7\\},\"geometry\":\\{\"type\":\"Point\",\"coordinates\":{[}37.28926673791063,2.25792918879739{]}\\}\\}                                 & 307 & 0 & Other   & Kenya                            & 2013-09-01 & 56 & 49 & 7 & 56 & 49 & 7 & 2013 & 2.520 & 6.974787\\\\\n",
              "\t3 & \\{\"type\":\"Feature\",\"properties\":\\{\"project\\_id\":307,\"status\":0,\"organisation\":\"Other\",\"country\":{[}\"Kenya\"{]},\"time\":\"2013/10/01\",\"sessions\":15,\"sessions\\_mapped\":15,\"sessions\\_validated\":0,\"cum\\_sessions\":71,\"cum\\_sessions\\_mapped\":64,\"cum\\_sessions\\_validated\":7\\},\"geometry\":\\{\"type\":\"Point\",\"coordinates\":{[}37.28926673791063,2.25792918879739{]}\\}\\}                                 & 307 & 0 & Other   & Kenya                            & 2013-10-01 & 15 & 15 & 0 & 71 & 64 & 7 & 2013 & 2.520 & 6.974787\\\\\n",
              "\t4 & \\{\"type\":\"Feature\",\"properties\":\\{\"project\\_id\":307,\"status\":0,\"organisation\":\"Other\",\"country\":{[}\"Kenya\"{]},\"time\":\"2013/11/01\",\"sessions\":25,\"sessions\\_mapped\":25,\"sessions\\_validated\":0,\"cum\\_sessions\":96,\"cum\\_sessions\\_mapped\":89,\"cum\\_sessions\\_validated\":7\\},\"geometry\":\\{\"type\":\"Point\",\"coordinates\":{[}37.28926673791063,2.25792918879739{]}\\}\\}                                 & 307 & 0 & Other   & Kenya                            & 2013-11-01 & 25 & 25 & 0 & 96 & 89 & 7 & 2013 & 2.520 & 6.974787\\\\\n",
              "\t5 & \\{\"type\":\"Feature\",\"properties\":\\{\"project\\_id\":105,\"status\":0,\"organisation\":\"HOT\",\"country\":{[}\"Indonesia\"{]},\"time\":\"2013/01/01\",\"sessions\":22,\"sessions\\_mapped\":22,\"sessions\\_validated\":0,\"cum\\_sessions\":22,\"cum\\_sessions\\_mapped\":22,\"cum\\_sessions\\_validated\":0\\},\"geometry\":\\{\"type\":\"Point\",\"coordinates\":{[}112.71578853060767,-7.528457921176402{]}\\}\\}                            & 105 & 0 & HOT     & Indonesia                        & 2013-01-01 & 22 & 22 & 0 & 22 & 22 & 0 & 2013 & 1.690 & 5.167678\\\\\n",
              "\t6 & \\{\"type\":\"Feature\",\"properties\":\\{\"project\\_id\":231,\"status\":0,\"organisation\":\"HOT\",\"country\":{[}\"Indonesia\"{]},\"time\":\"2013/04/01\",\"sessions\":61,\"sessions\\_mapped\":54,\"sessions\\_validated\":2,\"cum\\_sessions\":61,\"cum\\_sessions\\_mapped\":54,\"cum\\_sessions\\_validated\":2\\},\"geometry\":\\{\"type\":\"Point\",\"coordinates\":{[}112.01225391713689,-7.164433004492154{]}\\}\\}                            & 231 & 0 & HOT     & Indonesia                        & 2013-04-01 & 61 & 54 & 2 & 61 & 54 & 2 & 2013 & 1.690 & 5.167678\\\\\n",
              "\\end{tabular}\n"
            ],
            "text/markdown": [
              "\n",
              "A data.frame: 6 × 15\n",
              "\n",
              "| <!--/--> | X_geojson &lt;chr&gt; | project_id &lt;int&gt; | status &lt;int&gt; | organisation &lt;chr&gt; | Country &lt;chr&gt; | time &lt;chr&gt; | sessions &lt;int&gt; | sessions_mapped &lt;int&gt; | sessions_validated &lt;int&gt; | cum_sessions &lt;int&gt; | cum_sessions_mapped &lt;int&gt; | cum_sessions_validated &lt;int&gt; | Year &lt;int&gt; | gpi &lt;dbl&gt; | gti &lt;dbl&gt; |\n",
              "|---|---|---|---|---|---|---|---|---|---|---|---|---|---|---|---|\n",
              "| 1 | {\"type\":\"Feature\",\"properties\":{\"project_id\":113,\"status\":0,\"organisation\":\"OSM RDC\",\"country\":[\"Democratic Republic of the Congo\"],\"time\":\"2012/12/01\",\"sessions\":18,\"sessions_mapped\":12,\"sessions_validated\":5,\"cum_sessions\":18,\"cum_sessions_mapped\":12,\"cum_sessions_validated\":5},\"geometry\":{\"type\":\"Point\",\"coordinates\":[29.208227620968245,-5.919781225787704]}} | 113 | 0 | OSM RDC | Democratic Republic of the Congo | 2012-12-01 | 18 | 12 | 5 | 18 | 12 | 5 | 2012 | 2.934 | 5.825723 |\n",
              "| 2 | {\"type\":\"Feature\",\"properties\":{\"project_id\":307,\"status\":0,\"organisation\":\"Other\",\"country\":[\"Kenya\"],\"time\":\"2013/09/01\",\"sessions\":56,\"sessions_mapped\":49,\"sessions_validated\":7,\"cum_sessions\":56,\"cum_sessions_mapped\":49,\"cum_sessions_validated\":7},\"geometry\":{\"type\":\"Point\",\"coordinates\":[37.28926673791063,2.25792918879739]}}                                 | 307 | 0 | Other   | Kenya                            | 2013-09-01 | 56 | 49 | 7 | 56 | 49 | 7 | 2013 | 2.520 | 6.974787 |\n",
              "| 3 | {\"type\":\"Feature\",\"properties\":{\"project_id\":307,\"status\":0,\"organisation\":\"Other\",\"country\":[\"Kenya\"],\"time\":\"2013/10/01\",\"sessions\":15,\"sessions_mapped\":15,\"sessions_validated\":0,\"cum_sessions\":71,\"cum_sessions_mapped\":64,\"cum_sessions_validated\":7},\"geometry\":{\"type\":\"Point\",\"coordinates\":[37.28926673791063,2.25792918879739]}}                                 | 307 | 0 | Other   | Kenya                            | 2013-10-01 | 15 | 15 | 0 | 71 | 64 | 7 | 2013 | 2.520 | 6.974787 |\n",
              "| 4 | {\"type\":\"Feature\",\"properties\":{\"project_id\":307,\"status\":0,\"organisation\":\"Other\",\"country\":[\"Kenya\"],\"time\":\"2013/11/01\",\"sessions\":25,\"sessions_mapped\":25,\"sessions_validated\":0,\"cum_sessions\":96,\"cum_sessions_mapped\":89,\"cum_sessions_validated\":7},\"geometry\":{\"type\":\"Point\",\"coordinates\":[37.28926673791063,2.25792918879739]}}                                 | 307 | 0 | Other   | Kenya                            | 2013-11-01 | 25 | 25 | 0 | 96 | 89 | 7 | 2013 | 2.520 | 6.974787 |\n",
              "| 5 | {\"type\":\"Feature\",\"properties\":{\"project_id\":105,\"status\":0,\"organisation\":\"HOT\",\"country\":[\"Indonesia\"],\"time\":\"2013/01/01\",\"sessions\":22,\"sessions_mapped\":22,\"sessions_validated\":0,\"cum_sessions\":22,\"cum_sessions_mapped\":22,\"cum_sessions_validated\":0},\"geometry\":{\"type\":\"Point\",\"coordinates\":[112.71578853060767,-7.528457921176402]}}                            | 105 | 0 | HOT     | Indonesia                        | 2013-01-01 | 22 | 22 | 0 | 22 | 22 | 0 | 2013 | 1.690 | 5.167678 |\n",
              "| 6 | {\"type\":\"Feature\",\"properties\":{\"project_id\":231,\"status\":0,\"organisation\":\"HOT\",\"country\":[\"Indonesia\"],\"time\":\"2013/04/01\",\"sessions\":61,\"sessions_mapped\":54,\"sessions_validated\":2,\"cum_sessions\":61,\"cum_sessions_mapped\":54,\"cum_sessions_validated\":2},\"geometry\":{\"type\":\"Point\",\"coordinates\":[112.01225391713689,-7.164433004492154]}}                            | 231 | 0 | HOT     | Indonesia                        | 2013-04-01 | 61 | 54 | 2 | 61 | 54 | 2 | 2013 | 1.690 | 5.167678 |\n",
              "\n"
            ],
            "text/plain": [
              "  X_geojson                                                                                                                                                                                                                                                                                                                                                                  \n",
              "1 {\"type\":\"Feature\",\"properties\":{\"project_id\":113,\"status\":0,\"organisation\":\"OSM RDC\",\"country\":[\"Democratic Republic of the Congo\"],\"time\":\"2012/12/01\",\"sessions\":18,\"sessions_mapped\":12,\"sessions_validated\":5,\"cum_sessions\":18,\"cum_sessions_mapped\":12,\"cum_sessions_validated\":5},\"geometry\":{\"type\":\"Point\",\"coordinates\":[29.208227620968245,-5.919781225787704]}}\n",
              "2 {\"type\":\"Feature\",\"properties\":{\"project_id\":307,\"status\":0,\"organisation\":\"Other\",\"country\":[\"Kenya\"],\"time\":\"2013/09/01\",\"sessions\":56,\"sessions_mapped\":49,\"sessions_validated\":7,\"cum_sessions\":56,\"cum_sessions_mapped\":49,\"cum_sessions_validated\":7},\"geometry\":{\"type\":\"Point\",\"coordinates\":[37.28926673791063,2.25792918879739]}}                                \n",
              "3 {\"type\":\"Feature\",\"properties\":{\"project_id\":307,\"status\":0,\"organisation\":\"Other\",\"country\":[\"Kenya\"],\"time\":\"2013/10/01\",\"sessions\":15,\"sessions_mapped\":15,\"sessions_validated\":0,\"cum_sessions\":71,\"cum_sessions_mapped\":64,\"cum_sessions_validated\":7},\"geometry\":{\"type\":\"Point\",\"coordinates\":[37.28926673791063,2.25792918879739]}}                                \n",
              "4 {\"type\":\"Feature\",\"properties\":{\"project_id\":307,\"status\":0,\"organisation\":\"Other\",\"country\":[\"Kenya\"],\"time\":\"2013/11/01\",\"sessions\":25,\"sessions_mapped\":25,\"sessions_validated\":0,\"cum_sessions\":96,\"cum_sessions_mapped\":89,\"cum_sessions_validated\":7},\"geometry\":{\"type\":\"Point\",\"coordinates\":[37.28926673791063,2.25792918879739]}}                                \n",
              "5 {\"type\":\"Feature\",\"properties\":{\"project_id\":105,\"status\":0,\"organisation\":\"HOT\",\"country\":[\"Indonesia\"],\"time\":\"2013/01/01\",\"sessions\":22,\"sessions_mapped\":22,\"sessions_validated\":0,\"cum_sessions\":22,\"cum_sessions_mapped\":22,\"cum_sessions_validated\":0},\"geometry\":{\"type\":\"Point\",\"coordinates\":[112.71578853060767,-7.528457921176402]}}                           \n",
              "6 {\"type\":\"Feature\",\"properties\":{\"project_id\":231,\"status\":0,\"organisation\":\"HOT\",\"country\":[\"Indonesia\"],\"time\":\"2013/04/01\",\"sessions\":61,\"sessions_mapped\":54,\"sessions_validated\":2,\"cum_sessions\":61,\"cum_sessions_mapped\":54,\"cum_sessions_validated\":2},\"geometry\":{\"type\":\"Point\",\"coordinates\":[112.01225391713689,-7.164433004492154]}}                           \n",
              "  project_id status organisation Country                          time      \n",
              "1 113        0      OSM RDC      Democratic Republic of the Congo 2012-12-01\n",
              "2 307        0      Other        Kenya                            2013-09-01\n",
              "3 307        0      Other        Kenya                            2013-10-01\n",
              "4 307        0      Other        Kenya                            2013-11-01\n",
              "5 105        0      HOT          Indonesia                        2013-01-01\n",
              "6 231        0      HOT          Indonesia                        2013-04-01\n",
              "  sessions sessions_mapped sessions_validated cum_sessions cum_sessions_mapped\n",
              "1 18       12              5                  18           12                 \n",
              "2 56       49              7                  56           49                 \n",
              "3 15       15              0                  71           64                 \n",
              "4 25       25              0                  96           89                 \n",
              "5 22       22              0                  22           22                 \n",
              "6 61       54              2                  61           54                 \n",
              "  cum_sessions_validated Year gpi   gti     \n",
              "1 5                      2012 2.934 5.825723\n",
              "2 7                      2013 2.520 6.974787\n",
              "3 7                      2013 2.520 6.974787\n",
              "4 7                      2013 2.520 6.974787\n",
              "5 0                      2013 1.690 5.167678\n",
              "6 2                      2013 1.690 5.167678"
            ]
          },
          "metadata": {},
          "output_type": "display_data"
        }
      ],
      "source": [
        "head(activity_by_month)"
      ]
    },
    {
      "cell_type": "markdown",
      "metadata": {
        "id": "EGJvrlNr3TaC"
      },
      "source": [
        "status + sessions + sessions_mapped + cum_sessions + cum_sessions_mapped + gpi + gti"
      ]
    },
    {
      "cell_type": "code",
      "execution_count": null,
      "metadata": {
        "colab": {
          "base_uri": "https://localhost:8080/",
          "height": 347
        },
        "id": "ieye5F1ftL_Z",
        "outputId": "94c55003-7545-4224-b2b3-a04ceb452ed3",
        "vscode": {
          "languageId": "r"
        }
      },
      "outputs": [
        {
          "data": {
            "text/plain": [
              "\n",
              "Call:\n",
              "lm(formula = sessions_validated ~ -1 + sessions + gpi + gti)\n",
              "\n",
              "Residuals:\n",
              "    Min      1Q  Median      3Q     Max \n",
              "-3450.9   -16.8    -8.2    -2.5  9189.9 \n",
              "\n",
              "Coefficients:\n",
              "          Estimate Std. Error t value Pr(>|t|)    \n",
              "sessions  0.190532   0.001351  141.05   <2e-16 ***\n",
              "gpi       6.852252   0.794033    8.63   <2e-16 ***\n",
              "gti      -2.017285   0.349624   -5.77    8e-09 ***\n",
              "---\n",
              "Signif. codes:  0 ‘***’ 0.001 ‘**’ 0.01 ‘*’ 0.05 ‘.’ 0.1 ‘ ’ 1\n",
              "\n",
              "Residual standard error: 170.4 on 35616 degrees of freedom\n",
              "Multiple R-squared:  0.3902,\tAdjusted R-squared:  0.3901 \n",
              "F-statistic:  7596 on 3 and 35616 DF,  p-value: < 2.2e-16\n"
            ]
          },
          "metadata": {},
          "output_type": "display_data"
        }
      ],
      "source": [
        "model_base = lm(data = activity_by_month, sessions_validated ~ 1)\n",
        "model_complet = lm(sessions_validated ~ -1 + sessions +  gpi + gti)\n",
        "\n",
        "summary(model_complet)"
      ]
    },
    {
      "cell_type": "code",
      "execution_count": null,
      "metadata": {
        "colab": {
          "base_uri": "https://localhost:8080/",
          "height": 52
        },
        "id": "pWXwLBN5BdDi",
        "outputId": "2487c872-f54e-4d65-dfd4-07e458b331a7",
        "vscode": {
          "languageId": "r"
        }
      },
      "outputs": [
        {
          "data": {
            "text/plain": [
              "sessions_validated ~ status + sessions + sessions_mapped + cum_sessions + \n",
              "    cum_sessions_mapped + gpi + gti"
            ]
          },
          "metadata": {},
          "output_type": "display_data"
        }
      ],
      "source": [
        "formula(model_complet)"
      ]
    },
    {
      "cell_type": "code",
      "execution_count": null,
      "metadata": {
        "colab": {
          "base_uri": "https://localhost:8080/",
          "height": 451
        },
        "id": "y7dDF6cy41xa",
        "outputId": "3a7612a3-e7da-4f5a-83ec-2bb465c11ca7",
        "vscode": {
          "languageId": "r"
        }
      },
      "outputs": [
        {
          "data": {
            "text/plain": [
              "\n",
              "Call:\n",
              "lm(formula = sessions_validated ~ project_id + status + sessions + \n",
              "    sessions_mapped + cum_sessions + cum_sessions_mapped + gpi - \n",
              "    1)\n",
              "\n",
              "Residuals:\n",
              "    Min      1Q  Median      3Q     Max \n",
              "-4949.2   -21.6    -8.7     4.4  7427.9 \n",
              "\n",
              "Coefficients:\n",
              "                      Estimate Std. Error t value Pr(>|t|)    \n",
              "project_id           2.545e-03  2.968e-04   8.574  < 2e-16 ***\n",
              "status              -3.789e+01  2.320e+00 -16.332  < 2e-16 ***\n",
              "sessions             3.596e-01  2.777e-03 129.487  < 2e-16 ***\n",
              "sessions_mapped     -4.433e-01  6.134e-03 -72.268  < 2e-16 ***\n",
              "cum_sessions        -2.110e-02  5.662e-04 -37.276  < 2e-16 ***\n",
              "cum_sessions_mapped  6.527e-02  1.783e-03  36.603  < 2e-16 ***\n",
              "gpi                 -3.261e+00  8.324e-01  -3.918 8.95e-05 ***\n",
              "---\n",
              "Signif. codes:  0 ‘***’ 0.001 ‘**’ 0.01 ‘*’ 0.05 ‘.’ 0.1 ‘ ’ 1\n",
              "\n",
              "Residual standard error: 158.2 on 35612 degrees of freedom\n",
              "Multiple R-squared:  0.4745,\tAdjusted R-squared:  0.4744 \n",
              "F-statistic:  4593 on 7 and 35612 DF,  p-value: < 2.2e-16\n"
            ]
          },
          "metadata": {},
          "output_type": "display_data"
        }
      ],
      "source": [
        "model_base = lm(data = activity_by_month, sessions_validated ~ 1)\n",
        "model_complet = lm(sessions_validated ~ project_id + status + sessions + sessions_mapped + cum_sessions + cum_sessions_mapped + gpi -1)\n",
        "\n",
        "summary(model_complet)"
      ]
    }
  ],
  "metadata": {
    "colab": {
      "authorship_tag": "ABX9TyMmiex26/mkYzcEzov4gH5Q",
      "include_colab_link": true,
      "provenance": []
    },
    "kernelspec": {
      "display_name": "R",
      "name": "ir"
    },
    "language_info": {
      "name": "R"
    }
  },
  "nbformat": 4,
  "nbformat_minor": 0
}

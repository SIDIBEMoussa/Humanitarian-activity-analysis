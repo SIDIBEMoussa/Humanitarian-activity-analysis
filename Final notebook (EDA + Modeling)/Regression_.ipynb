{
  "nbformat": 4,
  "nbformat_minor": 0,
  "metadata": {
    "colab": {
      "provenance": [],
      "authorship_tag": "ABX9TyOPSD7B3hY2VuVxHWWRXNwW",
      "include_colab_link": true
    },
    "kernelspec": {
      "name": "ir",
      "display_name": "R"
    },
    "language_info": {
      "name": "R"
    }
  },
  "cells": [
    {
      "cell_type": "markdown",
      "metadata": {
        "id": "view-in-github",
        "colab_type": "text"
      },
      "source": [
        "<a href=\"https://colab.research.google.com/github/SIDIBEMoussa/Humanitarian-activity-analysis/blob/main/Regression_.ipynb\" target=\"_parent\"><img src=\"https://colab.research.google.com/assets/colab-badge.svg\" alt=\"Open In Colab\"/></a>"
      ]
    },
    {
      "cell_type": "code",
      "execution_count": 6,
      "metadata": {
        "id": "IrH6JWhnq0Qt"
      },
      "outputs": [],
      "source": [
        "library(data.table)\n",
        "library(Hmisc)\n",
        "library(caTools)"
      ]
    },
    {
      "cell_type": "code",
      "source": [
        "data = read.csv(\"Cleaned_Enriched_activity_data.csv\")\n",
        "\n",
        "attach(data)"
      ],
      "metadata": {
        "id": "sjN-4CxTq1wy"
      },
      "execution_count": 7,
      "outputs": []
    },
    {
      "cell_type": "code",
      "source": [
        "head(data)"
      ],
      "metadata": {
        "colab": {
          "base_uri": "https://localhost:8080/",
          "height": 515
        },
        "id": "BlSOqvBMrLnC",
        "outputId": "2ef1dde1-0772-486c-9355-145a776cf2a3"
      },
      "execution_count": 8,
      "outputs": [
        {
          "output_type": "display_data",
          "data": {
            "text/html": [
              "<table class=\"dataframe\">\n",
              "<caption>A data.frame: 6 × 15</caption>\n",
              "<thead>\n",
              "\t<tr><th></th><th scope=col>X_geojson</th><th scope=col>project_id</th><th scope=col>status</th><th scope=col>organisation</th><th scope=col>Country</th><th scope=col>time</th><th scope=col>sessions</th><th scope=col>sessions_mapped</th><th scope=col>sessions_validated</th><th scope=col>cum_sessions</th><th scope=col>cum_sessions_mapped</th><th scope=col>cum_sessions_validated</th><th scope=col>Year</th><th scope=col>gpi</th><th scope=col>gti</th></tr>\n",
              "\t<tr><th></th><th scope=col>&lt;chr&gt;</th><th scope=col>&lt;int&gt;</th><th scope=col>&lt;int&gt;</th><th scope=col>&lt;chr&gt;</th><th scope=col>&lt;chr&gt;</th><th scope=col>&lt;chr&gt;</th><th scope=col>&lt;int&gt;</th><th scope=col>&lt;int&gt;</th><th scope=col>&lt;int&gt;</th><th scope=col>&lt;int&gt;</th><th scope=col>&lt;int&gt;</th><th scope=col>&lt;int&gt;</th><th scope=col>&lt;int&gt;</th><th scope=col>&lt;dbl&gt;</th><th scope=col>&lt;dbl&gt;</th></tr>\n",
              "</thead>\n",
              "<tbody>\n",
              "\t<tr><th scope=row>1</th><td>{\"type\":\"Feature\",\"properties\":{\"project_id\":113,\"status\":0,\"organisation\":\"OSM RDC\",\"country\":[\"Democratic Republic of the Congo\"],\"time\":\"2012/12/01\",\"sessions\":18,\"sessions_mapped\":12,\"sessions_validated\":5,\"cum_sessions\":18,\"cum_sessions_mapped\":12,\"cum_sessions_validated\":5},\"geometry\":{\"type\":\"Point\",\"coordinates\":[29.208227620968245,-5.919781225787704]}}</td><td>113</td><td>0</td><td>OSM RDC</td><td>Democratic Republic of the Congo</td><td>2012-12-01</td><td>18</td><td>12</td><td>5</td><td>18</td><td>12</td><td>5</td><td>2012</td><td>2.934</td><td>5.825723</td></tr>\n",
              "\t<tr><th scope=row>2</th><td>{\"type\":\"Feature\",\"properties\":{\"project_id\":307,\"status\":0,\"organisation\":\"Other\",\"country\":[\"Kenya\"],\"time\":\"2013/09/01\",\"sessions\":56,\"sessions_mapped\":49,\"sessions_validated\":7,\"cum_sessions\":56,\"cum_sessions_mapped\":49,\"cum_sessions_validated\":7},\"geometry\":{\"type\":\"Point\",\"coordinates\":[37.28926673791063,2.25792918879739]}}                                </td><td>307</td><td>0</td><td>Other  </td><td>Kenya                           </td><td>2013-09-01</td><td>56</td><td>49</td><td>7</td><td>56</td><td>49</td><td>7</td><td>2013</td><td>2.520</td><td>6.974787</td></tr>\n",
              "\t<tr><th scope=row>3</th><td>{\"type\":\"Feature\",\"properties\":{\"project_id\":307,\"status\":0,\"organisation\":\"Other\",\"country\":[\"Kenya\"],\"time\":\"2013/10/01\",\"sessions\":15,\"sessions_mapped\":15,\"sessions_validated\":0,\"cum_sessions\":71,\"cum_sessions_mapped\":64,\"cum_sessions_validated\":7},\"geometry\":{\"type\":\"Point\",\"coordinates\":[37.28926673791063,2.25792918879739]}}                                </td><td>307</td><td>0</td><td>Other  </td><td>Kenya                           </td><td>2013-10-01</td><td>15</td><td>15</td><td>0</td><td>71</td><td>64</td><td>7</td><td>2013</td><td>2.520</td><td>6.974787</td></tr>\n",
              "\t<tr><th scope=row>4</th><td>{\"type\":\"Feature\",\"properties\":{\"project_id\":307,\"status\":0,\"organisation\":\"Other\",\"country\":[\"Kenya\"],\"time\":\"2013/11/01\",\"sessions\":25,\"sessions_mapped\":25,\"sessions_validated\":0,\"cum_sessions\":96,\"cum_sessions_mapped\":89,\"cum_sessions_validated\":7},\"geometry\":{\"type\":\"Point\",\"coordinates\":[37.28926673791063,2.25792918879739]}}                                </td><td>307</td><td>0</td><td>Other  </td><td>Kenya                           </td><td>2013-11-01</td><td>25</td><td>25</td><td>0</td><td>96</td><td>89</td><td>7</td><td>2013</td><td>2.520</td><td>6.974787</td></tr>\n",
              "\t<tr><th scope=row>5</th><td>{\"type\":\"Feature\",\"properties\":{\"project_id\":105,\"status\":0,\"organisation\":\"HOT\",\"country\":[\"Indonesia\"],\"time\":\"2013/01/01\",\"sessions\":22,\"sessions_mapped\":22,\"sessions_validated\":0,\"cum_sessions\":22,\"cum_sessions_mapped\":22,\"cum_sessions_validated\":0},\"geometry\":{\"type\":\"Point\",\"coordinates\":[112.71578853060767,-7.528457921176402]}}                           </td><td>105</td><td>0</td><td>HOT    </td><td>Indonesia                       </td><td>2013-01-01</td><td>22</td><td>22</td><td>0</td><td>22</td><td>22</td><td>0</td><td>2013</td><td>1.690</td><td>5.167678</td></tr>\n",
              "\t<tr><th scope=row>6</th><td>{\"type\":\"Feature\",\"properties\":{\"project_id\":231,\"status\":0,\"organisation\":\"HOT\",\"country\":[\"Indonesia\"],\"time\":\"2013/04/01\",\"sessions\":61,\"sessions_mapped\":54,\"sessions_validated\":2,\"cum_sessions\":61,\"cum_sessions_mapped\":54,\"cum_sessions_validated\":2},\"geometry\":{\"type\":\"Point\",\"coordinates\":[112.01225391713689,-7.164433004492154]}}                           </td><td>231</td><td>0</td><td>HOT    </td><td>Indonesia                       </td><td>2013-04-01</td><td>61</td><td>54</td><td>2</td><td>61</td><td>54</td><td>2</td><td>2013</td><td>1.690</td><td>5.167678</td></tr>\n",
              "</tbody>\n",
              "</table>\n"
            ],
            "text/markdown": "\nA data.frame: 6 × 15\n\n| <!--/--> | X_geojson &lt;chr&gt; | project_id &lt;int&gt; | status &lt;int&gt; | organisation &lt;chr&gt; | Country &lt;chr&gt; | time &lt;chr&gt; | sessions &lt;int&gt; | sessions_mapped &lt;int&gt; | sessions_validated &lt;int&gt; | cum_sessions &lt;int&gt; | cum_sessions_mapped &lt;int&gt; | cum_sessions_validated &lt;int&gt; | Year &lt;int&gt; | gpi &lt;dbl&gt; | gti &lt;dbl&gt; |\n|---|---|---|---|---|---|---|---|---|---|---|---|---|---|---|---|\n| 1 | {\"type\":\"Feature\",\"properties\":{\"project_id\":113,\"status\":0,\"organisation\":\"OSM RDC\",\"country\":[\"Democratic Republic of the Congo\"],\"time\":\"2012/12/01\",\"sessions\":18,\"sessions_mapped\":12,\"sessions_validated\":5,\"cum_sessions\":18,\"cum_sessions_mapped\":12,\"cum_sessions_validated\":5},\"geometry\":{\"type\":\"Point\",\"coordinates\":[29.208227620968245,-5.919781225787704]}} | 113 | 0 | OSM RDC | Democratic Republic of the Congo | 2012-12-01 | 18 | 12 | 5 | 18 | 12 | 5 | 2012 | 2.934 | 5.825723 |\n| 2 | {\"type\":\"Feature\",\"properties\":{\"project_id\":307,\"status\":0,\"organisation\":\"Other\",\"country\":[\"Kenya\"],\"time\":\"2013/09/01\",\"sessions\":56,\"sessions_mapped\":49,\"sessions_validated\":7,\"cum_sessions\":56,\"cum_sessions_mapped\":49,\"cum_sessions_validated\":7},\"geometry\":{\"type\":\"Point\",\"coordinates\":[37.28926673791063,2.25792918879739]}}                                 | 307 | 0 | Other   | Kenya                            | 2013-09-01 | 56 | 49 | 7 | 56 | 49 | 7 | 2013 | 2.520 | 6.974787 |\n| 3 | {\"type\":\"Feature\",\"properties\":{\"project_id\":307,\"status\":0,\"organisation\":\"Other\",\"country\":[\"Kenya\"],\"time\":\"2013/10/01\",\"sessions\":15,\"sessions_mapped\":15,\"sessions_validated\":0,\"cum_sessions\":71,\"cum_sessions_mapped\":64,\"cum_sessions_validated\":7},\"geometry\":{\"type\":\"Point\",\"coordinates\":[37.28926673791063,2.25792918879739]}}                                 | 307 | 0 | Other   | Kenya                            | 2013-10-01 | 15 | 15 | 0 | 71 | 64 | 7 | 2013 | 2.520 | 6.974787 |\n| 4 | {\"type\":\"Feature\",\"properties\":{\"project_id\":307,\"status\":0,\"organisation\":\"Other\",\"country\":[\"Kenya\"],\"time\":\"2013/11/01\",\"sessions\":25,\"sessions_mapped\":25,\"sessions_validated\":0,\"cum_sessions\":96,\"cum_sessions_mapped\":89,\"cum_sessions_validated\":7},\"geometry\":{\"type\":\"Point\",\"coordinates\":[37.28926673791063,2.25792918879739]}}                                 | 307 | 0 | Other   | Kenya                            | 2013-11-01 | 25 | 25 | 0 | 96 | 89 | 7 | 2013 | 2.520 | 6.974787 |\n| 5 | {\"type\":\"Feature\",\"properties\":{\"project_id\":105,\"status\":0,\"organisation\":\"HOT\",\"country\":[\"Indonesia\"],\"time\":\"2013/01/01\",\"sessions\":22,\"sessions_mapped\":22,\"sessions_validated\":0,\"cum_sessions\":22,\"cum_sessions_mapped\":22,\"cum_sessions_validated\":0},\"geometry\":{\"type\":\"Point\",\"coordinates\":[112.71578853060767,-7.528457921176402]}}                            | 105 | 0 | HOT     | Indonesia                        | 2013-01-01 | 22 | 22 | 0 | 22 | 22 | 0 | 2013 | 1.690 | 5.167678 |\n| 6 | {\"type\":\"Feature\",\"properties\":{\"project_id\":231,\"status\":0,\"organisation\":\"HOT\",\"country\":[\"Indonesia\"],\"time\":\"2013/04/01\",\"sessions\":61,\"sessions_mapped\":54,\"sessions_validated\":2,\"cum_sessions\":61,\"cum_sessions_mapped\":54,\"cum_sessions_validated\":2},\"geometry\":{\"type\":\"Point\",\"coordinates\":[112.01225391713689,-7.164433004492154]}}                            | 231 | 0 | HOT     | Indonesia                        | 2013-04-01 | 61 | 54 | 2 | 61 | 54 | 2 | 2013 | 1.690 | 5.167678 |\n\n",
            "text/latex": "A data.frame: 6 × 15\n\\begin{tabular}{r|lllllllllllllll}\n  & X\\_geojson & project\\_id & status & organisation & Country & time & sessions & sessions\\_mapped & sessions\\_validated & cum\\_sessions & cum\\_sessions\\_mapped & cum\\_sessions\\_validated & Year & gpi & gti\\\\\n  & <chr> & <int> & <int> & <chr> & <chr> & <chr> & <int> & <int> & <int> & <int> & <int> & <int> & <int> & <dbl> & <dbl>\\\\\n\\hline\n\t1 & \\{\"type\":\"Feature\",\"properties\":\\{\"project\\_id\":113,\"status\":0,\"organisation\":\"OSM RDC\",\"country\":{[}\"Democratic Republic of the Congo\"{]},\"time\":\"2012/12/01\",\"sessions\":18,\"sessions\\_mapped\":12,\"sessions\\_validated\":5,\"cum\\_sessions\":18,\"cum\\_sessions\\_mapped\":12,\"cum\\_sessions\\_validated\":5\\},\"geometry\":\\{\"type\":\"Point\",\"coordinates\":{[}29.208227620968245,-5.919781225787704{]}\\}\\} & 113 & 0 & OSM RDC & Democratic Republic of the Congo & 2012-12-01 & 18 & 12 & 5 & 18 & 12 & 5 & 2012 & 2.934 & 5.825723\\\\\n\t2 & \\{\"type\":\"Feature\",\"properties\":\\{\"project\\_id\":307,\"status\":0,\"organisation\":\"Other\",\"country\":{[}\"Kenya\"{]},\"time\":\"2013/09/01\",\"sessions\":56,\"sessions\\_mapped\":49,\"sessions\\_validated\":7,\"cum\\_sessions\":56,\"cum\\_sessions\\_mapped\":49,\"cum\\_sessions\\_validated\":7\\},\"geometry\":\\{\"type\":\"Point\",\"coordinates\":{[}37.28926673791063,2.25792918879739{]}\\}\\}                                 & 307 & 0 & Other   & Kenya                            & 2013-09-01 & 56 & 49 & 7 & 56 & 49 & 7 & 2013 & 2.520 & 6.974787\\\\\n\t3 & \\{\"type\":\"Feature\",\"properties\":\\{\"project\\_id\":307,\"status\":0,\"organisation\":\"Other\",\"country\":{[}\"Kenya\"{]},\"time\":\"2013/10/01\",\"sessions\":15,\"sessions\\_mapped\":15,\"sessions\\_validated\":0,\"cum\\_sessions\":71,\"cum\\_sessions\\_mapped\":64,\"cum\\_sessions\\_validated\":7\\},\"geometry\":\\{\"type\":\"Point\",\"coordinates\":{[}37.28926673791063,2.25792918879739{]}\\}\\}                                 & 307 & 0 & Other   & Kenya                            & 2013-10-01 & 15 & 15 & 0 & 71 & 64 & 7 & 2013 & 2.520 & 6.974787\\\\\n\t4 & \\{\"type\":\"Feature\",\"properties\":\\{\"project\\_id\":307,\"status\":0,\"organisation\":\"Other\",\"country\":{[}\"Kenya\"{]},\"time\":\"2013/11/01\",\"sessions\":25,\"sessions\\_mapped\":25,\"sessions\\_validated\":0,\"cum\\_sessions\":96,\"cum\\_sessions\\_mapped\":89,\"cum\\_sessions\\_validated\":7\\},\"geometry\":\\{\"type\":\"Point\",\"coordinates\":{[}37.28926673791063,2.25792918879739{]}\\}\\}                                 & 307 & 0 & Other   & Kenya                            & 2013-11-01 & 25 & 25 & 0 & 96 & 89 & 7 & 2013 & 2.520 & 6.974787\\\\\n\t5 & \\{\"type\":\"Feature\",\"properties\":\\{\"project\\_id\":105,\"status\":0,\"organisation\":\"HOT\",\"country\":{[}\"Indonesia\"{]},\"time\":\"2013/01/01\",\"sessions\":22,\"sessions\\_mapped\":22,\"sessions\\_validated\":0,\"cum\\_sessions\":22,\"cum\\_sessions\\_mapped\":22,\"cum\\_sessions\\_validated\":0\\},\"geometry\":\\{\"type\":\"Point\",\"coordinates\":{[}112.71578853060767,-7.528457921176402{]}\\}\\}                            & 105 & 0 & HOT     & Indonesia                        & 2013-01-01 & 22 & 22 & 0 & 22 & 22 & 0 & 2013 & 1.690 & 5.167678\\\\\n\t6 & \\{\"type\":\"Feature\",\"properties\":\\{\"project\\_id\":231,\"status\":0,\"organisation\":\"HOT\",\"country\":{[}\"Indonesia\"{]},\"time\":\"2013/04/01\",\"sessions\":61,\"sessions\\_mapped\":54,\"sessions\\_validated\":2,\"cum\\_sessions\":61,\"cum\\_sessions\\_mapped\":54,\"cum\\_sessions\\_validated\":2\\},\"geometry\":\\{\"type\":\"Point\",\"coordinates\":{[}112.01225391713689,-7.164433004492154{]}\\}\\}                            & 231 & 0 & HOT     & Indonesia                        & 2013-04-01 & 61 & 54 & 2 & 61 & 54 & 2 & 2013 & 1.690 & 5.167678\\\\\n\\end{tabular}\n",
            "text/plain": [
              "  X_geojson                                                                                                                                                                                                                                                                                                                                                                  \n",
              "1 {\"type\":\"Feature\",\"properties\":{\"project_id\":113,\"status\":0,\"organisation\":\"OSM RDC\",\"country\":[\"Democratic Republic of the Congo\"],\"time\":\"2012/12/01\",\"sessions\":18,\"sessions_mapped\":12,\"sessions_validated\":5,\"cum_sessions\":18,\"cum_sessions_mapped\":12,\"cum_sessions_validated\":5},\"geometry\":{\"type\":\"Point\",\"coordinates\":[29.208227620968245,-5.919781225787704]}}\n",
              "2 {\"type\":\"Feature\",\"properties\":{\"project_id\":307,\"status\":0,\"organisation\":\"Other\",\"country\":[\"Kenya\"],\"time\":\"2013/09/01\",\"sessions\":56,\"sessions_mapped\":49,\"sessions_validated\":7,\"cum_sessions\":56,\"cum_sessions_mapped\":49,\"cum_sessions_validated\":7},\"geometry\":{\"type\":\"Point\",\"coordinates\":[37.28926673791063,2.25792918879739]}}                                \n",
              "3 {\"type\":\"Feature\",\"properties\":{\"project_id\":307,\"status\":0,\"organisation\":\"Other\",\"country\":[\"Kenya\"],\"time\":\"2013/10/01\",\"sessions\":15,\"sessions_mapped\":15,\"sessions_validated\":0,\"cum_sessions\":71,\"cum_sessions_mapped\":64,\"cum_sessions_validated\":7},\"geometry\":{\"type\":\"Point\",\"coordinates\":[37.28926673791063,2.25792918879739]}}                                \n",
              "4 {\"type\":\"Feature\",\"properties\":{\"project_id\":307,\"status\":0,\"organisation\":\"Other\",\"country\":[\"Kenya\"],\"time\":\"2013/11/01\",\"sessions\":25,\"sessions_mapped\":25,\"sessions_validated\":0,\"cum_sessions\":96,\"cum_sessions_mapped\":89,\"cum_sessions_validated\":7},\"geometry\":{\"type\":\"Point\",\"coordinates\":[37.28926673791063,2.25792918879739]}}                                \n",
              "5 {\"type\":\"Feature\",\"properties\":{\"project_id\":105,\"status\":0,\"organisation\":\"HOT\",\"country\":[\"Indonesia\"],\"time\":\"2013/01/01\",\"sessions\":22,\"sessions_mapped\":22,\"sessions_validated\":0,\"cum_sessions\":22,\"cum_sessions_mapped\":22,\"cum_sessions_validated\":0},\"geometry\":{\"type\":\"Point\",\"coordinates\":[112.71578853060767,-7.528457921176402]}}                           \n",
              "6 {\"type\":\"Feature\",\"properties\":{\"project_id\":231,\"status\":0,\"organisation\":\"HOT\",\"country\":[\"Indonesia\"],\"time\":\"2013/04/01\",\"sessions\":61,\"sessions_mapped\":54,\"sessions_validated\":2,\"cum_sessions\":61,\"cum_sessions_mapped\":54,\"cum_sessions_validated\":2},\"geometry\":{\"type\":\"Point\",\"coordinates\":[112.01225391713689,-7.164433004492154]}}                           \n",
              "  project_id status organisation Country                          time      \n",
              "1 113        0      OSM RDC      Democratic Republic of the Congo 2012-12-01\n",
              "2 307        0      Other        Kenya                            2013-09-01\n",
              "3 307        0      Other        Kenya                            2013-10-01\n",
              "4 307        0      Other        Kenya                            2013-11-01\n",
              "5 105        0      HOT          Indonesia                        2013-01-01\n",
              "6 231        0      HOT          Indonesia                        2013-04-01\n",
              "  sessions sessions_mapped sessions_validated cum_sessions cum_sessions_mapped\n",
              "1 18       12              5                  18           12                 \n",
              "2 56       49              7                  56           49                 \n",
              "3 15       15              0                  71           64                 \n",
              "4 25       25              0                  96           89                 \n",
              "5 22       22              0                  22           22                 \n",
              "6 61       54              2                  61           54                 \n",
              "  cum_sessions_validated Year gpi   gti     \n",
              "1 5                      2012 2.934 5.825723\n",
              "2 7                      2013 2.520 6.974787\n",
              "3 7                      2013 2.520 6.974787\n",
              "4 7                      2013 2.520 6.974787\n",
              "5 0                      2013 1.690 5.167678\n",
              "6 2                      2013 1.690 5.167678"
            ]
          },
          "metadata": {}
        }
      ]
    },
    {
      "cell_type": "code",
      "source": [
        "independent_cols = ['status', 'sessions','sessions_mapped', 'cum_sessions','cum_sessions_mapped', 'gpi', 'gti']\n",
        "\n",
        "dependant_col = 'sessions_validated'"
      ],
      "metadata": {
        "id": "J43I9I4ruXSD"
      },
      "execution_count": null,
      "outputs": []
    },
    {
      "cell_type": "code",
      "source": [
        "data[independent_cols]"
      ],
      "metadata": {
        "id": "eq0CXwR6v9Ip"
      },
      "execution_count": null,
      "outputs": []
    },
    {
      "cell_type": "code",
      "source": [
        "model_complet = lm(sessions_validated ~ ., data = data)"
      ],
      "metadata": {
        "id": "ieye5F1ftL_Z"
      },
      "execution_count": null,
      "outputs": []
    },
    {
      "cell_type": "code",
      "source": [
        "summary(model)"
      ],
      "metadata": {
        "colab": {
          "base_uri": "https://localhost:8080/",
          "height": 416
        },
        "id": "dMrBOs4Pt_hK",
        "outputId": "056a6735-b542-43c3-a801-53aa147f5e1a"
      },
      "execution_count": 13,
      "outputs": [
        {
          "output_type": "display_data",
          "data": {
            "text/plain": [
              "\n",
              "Call:\n",
              "lm(formula = sessions_validated ~ cum_sessions + gti + gpi + \n",
              "    sessions_mapped)\n",
              "\n",
              "Residuals:\n",
              "     Min       1Q   Median       3Q      Max \n",
              "-2137.11   -35.75   -18.36    -2.57  3038.34 \n",
              "\n",
              "Coefficients:\n",
              "                  Estimate Std. Error t value Pr(>|t|)    \n",
              "(Intercept)     27.0830551  7.0142134   3.861 0.000113 ***\n",
              "cum_sessions     0.0136632  0.0005558  24.585  < 2e-16 ***\n",
              "gti             -3.0945667  0.5173884  -5.981 2.26e-09 ***\n",
              "gpi             -2.2657093  3.3297586  -0.680 0.496233    \n",
              "sessions_mapped  0.2364371  0.0043214  54.713  < 2e-16 ***\n",
              "---\n",
              "Signif. codes:  0 ‘***’ 0.001 ‘**’ 0.01 ‘*’ 0.05 ‘.’ 0.1 ‘ ’ 1\n",
              "\n",
              "Residual standard error: 167.5 on 17198 degrees of freedom\n",
              "  (1 observation deleted due to missingness)\n",
              "Multiple R-squared:  0.2034,\tAdjusted R-squared:  0.2032 \n",
              "F-statistic:  1098 on 4 and 17198 DF,  p-value: < 2.2e-16\n"
            ]
          },
          "metadata": {}
        }
      ]
    },
    {
      "cell_type": "code",
      "source": [],
      "metadata": {
        "id": "XLnaFf7durxM"
      },
      "execution_count": null,
      "outputs": []
    }
  ]
}